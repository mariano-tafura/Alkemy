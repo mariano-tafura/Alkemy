{
  "nbformat": 4,
  "nbformat_minor": 0,
  "metadata": {
    "colab": {
      "provenance": [],
      "mount_file_id": "1kZBD-vo-FQ3gSfPYGyG5RKmusGa82l4K",
      "authorship_tag": "ABX9TyNyY1HC01sdfsLSOI2LbxV9",
      "include_colab_link": true
    },
    "kernelspec": {
      "name": "python3",
      "display_name": "Python 3"
    },
    "language_info": {
      "name": "python"
    }
  },
  "cells": [
    {
      "cell_type": "markdown",
      "metadata": {
        "id": "view-in-github",
        "colab_type": "text"
      },
      "source": [
        "<a href=\"https://colab.research.google.com/github/mariano-tafura/Alkemy/blob/main/PruebaAlkemy.ipynb\" target=\"_parent\"><img src=\"https://colab.research.google.com/assets/colab-badge.svg\" alt=\"Open In Colab\"/></a>"
      ]
    },
    {
      "cell_type": "code",
      "execution_count": 1,
      "metadata": {
        "colab": {
          "base_uri": "https://localhost:8080/"
        },
        "id": "K0-onzAZEMru",
        "outputId": "1a55dc67-4dd8-4e0e-a6ac-195805cacc67"
      },
      "outputs": [
        {
          "output_type": "stream",
          "name": "stdout",
          "text": [
            "Looking in indexes: https://pypi.org/simple, https://us-python.pkg.dev/colab-wheels/public/simple/\n",
            "Collecting pyspark\n",
            "  Downloading pyspark-3.3.2.tar.gz (281.4 MB)\n",
            "\u001b[2K     \u001b[90m━━━━━━━━━━━━━━━━━━━━━━━━━━━━━━━━━━━━━━━\u001b[0m \u001b[32m281.4/281.4 MB\u001b[0m \u001b[31m5.0 MB/s\u001b[0m eta \u001b[36m0:00:00\u001b[0m\n",
            "\u001b[?25h  Preparing metadata (setup.py) ... \u001b[?25l\u001b[?25hdone\n",
            "Collecting py4j==0.10.9.5\n",
            "  Downloading py4j-0.10.9.5-py2.py3-none-any.whl (199 kB)\n",
            "\u001b[2K     \u001b[90m━━━━━━━━━━━━━━━━━━━━━━━━━━━━━━━━━━━━━━\u001b[0m \u001b[32m199.7/199.7 KB\u001b[0m \u001b[31m21.8 MB/s\u001b[0m eta \u001b[36m0:00:00\u001b[0m\n",
            "\u001b[?25hBuilding wheels for collected packages: pyspark\n",
            "  Building wheel for pyspark (setup.py) ... \u001b[?25l\u001b[?25hdone\n",
            "  Created wheel for pyspark: filename=pyspark-3.3.2-py2.py3-none-any.whl size=281824028 sha256=734141fa7051511cb48c2ca9183222ed877d07b2d0c1812f888ab3e474b678f0\n",
            "  Stored in directory: /root/.cache/pip/wheels/6c/e3/9b/0525ce8a69478916513509d43693511463c6468db0de237c86\n",
            "Successfully built pyspark\n",
            "Installing collected packages: py4j, pyspark\n",
            "  Attempting uninstall: py4j\n",
            "    Found existing installation: py4j 0.10.9.7\n",
            "    Uninstalling py4j-0.10.9.7:\n",
            "      Successfully uninstalled py4j-0.10.9.7\n",
            "Successfully installed py4j-0.10.9.5 pyspark-3.3.2\n"
          ]
        }
      ],
      "source": [
        "!pip install pyspark \n"
      ]
    },
    {
      "cell_type": "code",
      "source": [
        "!pip install -q findspark"
      ],
      "metadata": {
        "id": "oijisoe1F2QG"
      },
      "execution_count": 2,
      "outputs": []
    },
    {
      "cell_type": "code",
      "source": [
        "import findspark\n",
        "findspark.init()"
      ],
      "metadata": {
        "id": "Y_MLiIB3F2Sh"
      },
      "execution_count": 3,
      "outputs": []
    },
    {
      "cell_type": "code",
      "source": [
        "from pyspark.sql import SparkSession"
      ],
      "metadata": {
        "id": "ErK6PYq6F2Us"
      },
      "execution_count": 4,
      "outputs": []
    },
    {
      "cell_type": "code",
      "source": [
        "spark=SparkSession.builder.getOrCreate()"
      ],
      "metadata": {
        "id": "_NVjE0iDF2W3"
      },
      "execution_count": 5,
      "outputs": []
    },
    {
      "cell_type": "code",
      "source": [
        "spark.conf.set('spark.sql.legacy.parquet.datetimeRebaseModeInRead', 'CORRECTED')"
      ],
      "metadata": {
        "id": "0aor9mKDF2Zf"
      },
      "execution_count": null,
      "outputs": []
    },
    {
      "cell_type": "code",
      "source": [
        "from pyspark.sql import *\n",
        "from pyspark.sql import functions as F"
      ],
      "metadata": {
        "id": "A9LXGkInF2bo"
      },
      "execution_count": 6,
      "outputs": []
    },
    {
      "cell_type": "code",
      "source": [
        "#Cargamos el df y seleccionamos los campos importantes\n",
        "customer_basics = spark.read.parquet('/content/customer_basics.snappy.parquet')\n",
        "customer_basics=customer_basics.select('customer_id')\n",
        "address = spark.read.parquet('/content/address.snappy.parquet')\n",
        "address=address.select('customer_id','street_name','indoor_number','address_town_name','address_department_name','zipcode_id','province_id','last_change_date','operational_load_date').sort(F.desc('operational_load_date'))"
      ],
      "metadata": {
        "id": "cfOVliAMF2eR"
      },
      "execution_count": 8,
      "outputs": []
    },
    {
      "cell_type": "code",
      "source": [
        "#UNION LEFT CUSTOMER_BASICS Y ADDRESS\n",
        "customerBasics_join_address = customer_basics.join(address, customer_basics.customer_id == address.customer_id, how = \"left\")"
      ],
      "metadata": {
        "id": "OAb7IUqiF2i3"
      },
      "execution_count": 9,
      "outputs": []
    },
    {
      "cell_type": "code",
      "source": [
        "customerBasics_join_address.show(4)"
      ],
      "metadata": {
        "colab": {
          "base_uri": "https://localhost:8080/"
        },
        "id": "uVCvdbb8F2lR",
        "outputId": "be87bfee-b9ec-4033-bdf6-dcac304cf9a5"
      },
      "execution_count": 10,
      "outputs": [
        {
          "output_type": "stream",
          "name": "stdout",
          "text": [
            "+-----------+-----------+-----------+-------------+-----------------+-----------------------+----------+-----------+----------------+---------------------+\n",
            "|customer_id|customer_id|street_name|indoor_number|address_town_name|address_department_name|zipcode_id|province_id|last_change_date|operational_load_date|\n",
            "+-----------+-----------+-----------+-------------+-----------------+-----------------------+----------+-----------+----------------+---------------------+\n",
            "|   01157212|       null|       null|         null|             null|                   null|      null|       null|            null|                 null|\n",
            "|   26745469|       null|       null|         null|             null|                   null|      null|       null|            null|                 null|\n",
            "|   19403025|       null|       null|         null|             null|                   null|      null|       null|            null|                 null|\n",
            "|   19963134|       null|       null|         null|             null|                   null|      null|       null|            null|                 null|\n",
            "+-----------+-----------+-----------+-------------+-----------------+-----------------------+----------+-----------+----------------+---------------------+\n",
            "only showing top 4 rows\n",
            "\n"
          ]
        }
      ]
    },
    {
      "cell_type": "code",
      "source": [],
      "metadata": {
        "id": "lNZlGbpkF2n0"
      },
      "execution_count": null,
      "outputs": []
    },
    {
      "cell_type": "code",
      "source": [],
      "metadata": {
        "id": "hx5HANXUF2qM"
      },
      "execution_count": null,
      "outputs": []
    },
    {
      "cell_type": "code",
      "source": [],
      "metadata": {
        "id": "LHQVwjL3F2sU"
      },
      "execution_count": null,
      "outputs": []
    }
  ]
}